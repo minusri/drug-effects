{
 "cells": [
  {
   "cell_type": "code",
   "execution_count": 1,
   "metadata": {},
   "outputs": [],
   "source": [
    "import pandas as pd\n",
    "import numpy as np\n",
    "import matplotlib.pyplot as plt\n",
    "import seaborn as sns"
   ]
  },
  {
   "cell_type": "markdown",
   "metadata": {},
   "source": [
    "# Reading the dataset"
   ]
  },
  {
   "cell_type": "code",
   "execution_count": 2,
   "metadata": {},
   "outputs": [],
   "source": [
    "data=pd.read_csv('Drugeffects.csv').drop(columns=['Unnamed: 0'])"
   ]
  },
  {
   "cell_type": "code",
   "execution_count": 3,
   "metadata": {},
   "outputs": [
    {
     "data": {
      "text/html": [
       "<div>\n",
       "<style scoped>\n",
       "    .dataframe tbody tr th:only-of-type {\n",
       "        vertical-align: middle;\n",
       "    }\n",
       "\n",
       "    .dataframe tbody tr th {\n",
       "        vertical-align: top;\n",
       "    }\n",
       "\n",
       "    .dataframe thead th {\n",
       "        text-align: right;\n",
       "    }\n",
       "</style>\n",
       "<table border=\"1\" class=\"dataframe\">\n",
       "  <thead>\n",
       "    <tr style=\"text-align: right;\">\n",
       "      <th></th>\n",
       "      <th>urlDrugName</th>\n",
       "      <th>rating</th>\n",
       "      <th>effectiveness</th>\n",
       "      <th>condition</th>\n",
       "      <th>sideEffects</th>\n",
       "    </tr>\n",
       "  </thead>\n",
       "  <tbody>\n",
       "    <tr>\n",
       "      <th>0</th>\n",
       "      <td>enalapril</td>\n",
       "      <td>4</td>\n",
       "      <td>Highly Effective</td>\n",
       "      <td>management of congestive heart failure</td>\n",
       "      <td>Mild Side Effects</td>\n",
       "    </tr>\n",
       "    <tr>\n",
       "      <th>1</th>\n",
       "      <td>ortho-tri-cyclen</td>\n",
       "      <td>1</td>\n",
       "      <td>Highly Effective</td>\n",
       "      <td>birth prevention</td>\n",
       "      <td>Severe Side Effects</td>\n",
       "    </tr>\n",
       "    <tr>\n",
       "      <th>2</th>\n",
       "      <td>ponstel</td>\n",
       "      <td>10</td>\n",
       "      <td>Highly Effective</td>\n",
       "      <td>menstrual cramps</td>\n",
       "      <td>No Side Effects</td>\n",
       "    </tr>\n",
       "    <tr>\n",
       "      <th>3</th>\n",
       "      <td>prilosec</td>\n",
       "      <td>3</td>\n",
       "      <td>Marginally Effective</td>\n",
       "      <td>acid reflux</td>\n",
       "      <td>Mild Side Effects</td>\n",
       "    </tr>\n",
       "    <tr>\n",
       "      <th>4</th>\n",
       "      <td>lyrica</td>\n",
       "      <td>2</td>\n",
       "      <td>Marginally Effective</td>\n",
       "      <td>fibromyalgia</td>\n",
       "      <td>Severe Side Effects</td>\n",
       "    </tr>\n",
       "  </tbody>\n",
       "</table>\n",
       "</div>"
      ],
      "text/plain": [
       "        urlDrugName  rating         effectiveness  \\\n",
       "0         enalapril       4      Highly Effective   \n",
       "1  ortho-tri-cyclen       1      Highly Effective   \n",
       "2           ponstel      10      Highly Effective   \n",
       "3          prilosec       3  Marginally Effective   \n",
       "4            lyrica       2  Marginally Effective   \n",
       "\n",
       "                                condition          sideEffects  \n",
       "0  management of congestive heart failure    Mild Side Effects  \n",
       "1                        birth prevention  Severe Side Effects  \n",
       "2                        menstrual cramps      No Side Effects  \n",
       "3                             acid reflux    Mild Side Effects  \n",
       "4                            fibromyalgia  Severe Side Effects  "
      ]
     },
     "execution_count": 3,
     "metadata": {},
     "output_type": "execute_result"
    }
   ],
   "source": [
    "data.head()"
   ]
  },
  {
   "cell_type": "code",
   "execution_count": 4,
   "metadata": {},
   "outputs": [
    {
     "data": {
      "text/plain": [
       "(3107, 5)"
      ]
     },
     "execution_count": 4,
     "metadata": {},
     "output_type": "execute_result"
    }
   ],
   "source": [
    "data.shape"
   ]
  },
  {
   "cell_type": "code",
   "execution_count": 5,
   "metadata": {},
   "outputs": [],
   "source": [
    "data.to_csv('tcs.csv',index=False)"
   ]
  },
  {
   "cell_type": "code",
   "execution_count": 6,
   "metadata": {},
   "outputs": [
    {
     "name": "stdout",
     "output_type": "stream",
     "text": [
      "<class 'pandas.core.frame.DataFrame'>\n",
      "RangeIndex: 3107 entries, 0 to 3106\n",
      "Data columns (total 5 columns):\n",
      " #   Column         Non-Null Count  Dtype \n",
      "---  ------         --------------  ----- \n",
      " 0   urlDrugName    3107 non-null   object\n",
      " 1   rating         3107 non-null   int64 \n",
      " 2   effectiveness  3107 non-null   object\n",
      " 3   condition      3106 non-null   object\n",
      " 4   sideEffects    3107 non-null   object\n",
      "dtypes: int64(1), object(4)\n",
      "memory usage: 72.9+ KB\n"
     ]
    }
   ],
   "source": [
    "data.info()"
   ]
  },
  {
   "cell_type": "code",
   "execution_count": 7,
   "metadata": {},
   "outputs": [
    {
     "data": {
      "text/html": [
       "<div>\n",
       "<style scoped>\n",
       "    .dataframe tbody tr th:only-of-type {\n",
       "        vertical-align: middle;\n",
       "    }\n",
       "\n",
       "    .dataframe tbody tr th {\n",
       "        vertical-align: top;\n",
       "    }\n",
       "\n",
       "    .dataframe thead th {\n",
       "        text-align: right;\n",
       "    }\n",
       "</style>\n",
       "<table border=\"1\" class=\"dataframe\">\n",
       "  <thead>\n",
       "    <tr style=\"text-align: right;\">\n",
       "      <th></th>\n",
       "      <th>rating</th>\n",
       "    </tr>\n",
       "  </thead>\n",
       "  <tbody>\n",
       "    <tr>\n",
       "      <th>count</th>\n",
       "      <td>3107.000000</td>\n",
       "    </tr>\n",
       "    <tr>\n",
       "      <th>mean</th>\n",
       "      <td>7.006115</td>\n",
       "    </tr>\n",
       "    <tr>\n",
       "      <th>std</th>\n",
       "      <td>2.937582</td>\n",
       "    </tr>\n",
       "    <tr>\n",
       "      <th>min</th>\n",
       "      <td>1.000000</td>\n",
       "    </tr>\n",
       "    <tr>\n",
       "      <th>25%</th>\n",
       "      <td>5.000000</td>\n",
       "    </tr>\n",
       "    <tr>\n",
       "      <th>50%</th>\n",
       "      <td>8.000000</td>\n",
       "    </tr>\n",
       "    <tr>\n",
       "      <th>75%</th>\n",
       "      <td>9.000000</td>\n",
       "    </tr>\n",
       "    <tr>\n",
       "      <th>max</th>\n",
       "      <td>10.000000</td>\n",
       "    </tr>\n",
       "  </tbody>\n",
       "</table>\n",
       "</div>"
      ],
      "text/plain": [
       "            rating\n",
       "count  3107.000000\n",
       "mean      7.006115\n",
       "std       2.937582\n",
       "min       1.000000\n",
       "25%       5.000000\n",
       "50%       8.000000\n",
       "75%       9.000000\n",
       "max      10.000000"
      ]
     },
     "execution_count": 7,
     "metadata": {},
     "output_type": "execute_result"
    }
   ],
   "source": [
    "data.describe()"
   ]
  },
  {
   "cell_type": "code",
   "execution_count": 8,
   "metadata": {},
   "outputs": [
    {
     "data": {
      "text/plain": [
       "Index(['urlDrugName', 'rating', 'effectiveness', 'condition', 'sideEffects'], dtype='object')"
      ]
     },
     "execution_count": 8,
     "metadata": {},
     "output_type": "execute_result"
    }
   ],
   "source": [
    "data.columns"
   ]
  },
  {
   "cell_type": "code",
   "execution_count": 9,
   "metadata": {},
   "outputs": [
    {
     "data": {
      "text/plain": [
       "urlDrugName      object\n",
       "rating            int64\n",
       "effectiveness    object\n",
       "condition        object\n",
       "sideEffects      object\n",
       "dtype: object"
      ]
     },
     "execution_count": 9,
     "metadata": {},
     "output_type": "execute_result"
    }
   ],
   "source": [
    "data.dtypes"
   ]
  },
  {
   "cell_type": "code",
   "execution_count": 10,
   "metadata": {},
   "outputs": [
    {
     "data": {
      "text/plain": [
       "urlDrugName       502\n",
       "rating             10\n",
       "effectiveness       5\n",
       "condition        1426\n",
       "sideEffects         5\n",
       "dtype: int64"
      ]
     },
     "execution_count": 10,
     "metadata": {},
     "output_type": "execute_result"
    }
   ],
   "source": [
    "data.nunique()"
   ]
  },
  {
   "cell_type": "markdown",
   "metadata": {},
   "source": [
    "# Checking for missing values"
   ]
  },
  {
   "cell_type": "code",
   "execution_count": 11,
   "metadata": {
    "scrolled": true
   },
   "outputs": [
    {
     "data": {
      "text/plain": [
       "urlDrugName      0\n",
       "rating           0\n",
       "effectiveness    0\n",
       "condition        1\n",
       "sideEffects      0\n",
       "dtype: int64"
      ]
     },
     "execution_count": 11,
     "metadata": {},
     "output_type": "execute_result"
    }
   ],
   "source": [
    "data.isna().sum()"
   ]
  },
  {
   "cell_type": "code",
   "execution_count": 12,
   "metadata": {},
   "outputs": [],
   "source": [
    "data=data.dropna(axis=0)"
   ]
  },
  {
   "cell_type": "code",
   "execution_count": 13,
   "metadata": {},
   "outputs": [
    {
     "data": {
      "text/plain": [
       "urlDrugName      0\n",
       "rating           0\n",
       "effectiveness    0\n",
       "condition        0\n",
       "sideEffects      0\n",
       "dtype: int64"
      ]
     },
     "execution_count": 13,
     "metadata": {},
     "output_type": "execute_result"
    }
   ],
   "source": [
    "data.isna().sum()"
   ]
  },
  {
   "cell_type": "markdown",
   "metadata": {},
   "source": [
    "# Exploratory data analysis"
   ]
  },
  {
   "cell_type": "code",
   "execution_count": 14,
   "metadata": {},
   "outputs": [
    {
     "data": {
      "image/png": "[encoded data removed]",
      "text/plain": [
       "<Figure size 720x360 with 1 Axes>"
      ]
     },
     "metadata": {
      "needs_background": "light"
     },
     "output_type": "display_data"
    }
   ],
   "source": [
    "fregraph=data.select_dtypes(include=['int64'])\n",
    "fregraph.hist(figsize=(10,5))\n",
    "plt.show()"
   ]
  },
  {
   "cell_type": "code",
   "execution_count": 15,
   "metadata": {},
   "outputs": [
    {
     "data": {
      "text/plain": [
       "Index(['urlDrugName', 'rating', 'effectiveness', 'condition', 'sideEffects'], dtype='object')"
      ]
     },
     "execution_count": 15,
     "metadata": {},
     "output_type": "execute_result"
    }
   ],
   "source": [
    "data.columns"
   ]
  },
  {
   "cell_type": "code",
   "execution_count": 16,
   "metadata": {},
   "outputs": [
    {
     "data": {
      "text/plain": [
       "Text(0.5, 1.0, 'Top20 : The number of drugs per condition.')"
      ]
     },
     "execution_count": 16,
     "metadata": {},
     "output_type": "execute_result"
    },
    {
     "data": {
      "image/png": "[encoded data removed]",
      "text/plain": [
       "<Figure size 1008x432 with 1 Axes>"
      ]
     },
     "metadata": {
      "needs_background": "light"
     },
     "output_type": "display_data"
    }
   ],
   "source": [
    "condition_dn = data.groupby(['condition'])['urlDrugName'].nunique().sort_values(ascending=False)\n",
    "condition_dn[0:20].plot(kind=\"bar\", figsize = (14,6), fontsize = 10,color=\"green\")\n",
    "plt.xlabel(\"\", fontsize = 20)\n",
    "plt.ylabel(\"\", fontsize = 20)\n",
    "plt.title(\"Top20 : The number of drugs per condition.\", fontsize = 20)"
   ]
  },
  {
   "cell_type": "code",
   "execution_count": 17,
   "metadata": {},
   "outputs": [
    {
     "data": {
      "text/plain": [
       "depression             236\n",
       "acne                   165\n",
       "anxiety                 63\n",
       "insomnia                54\n",
       "birth control           49\n",
       "high blood pressure     42\n",
       "allergies               37\n",
       "acid reflux             33\n",
       "asthma                  33\n",
       "migraines               31\n",
       "Name: condition, dtype: int64"
      ]
     },
     "execution_count": 17,
     "metadata": {},
     "output_type": "execute_result"
    }
   ],
   "source": [
    "conditions = data[\"condition\"].value_counts().sort_values(ascending=False)\n",
    "conditions[:10]"
   ]
  },
  {
   "cell_type": "code",
   "execution_count": 18,
   "metadata": {},
   "outputs": [
    {
     "data": {
      "image/png": "[encoded data removed]",
      "text/plain": [
       "<Figure size 720x432 with 1 Axes>"
      ]
     },
     "metadata": {
      "needs_background": "light"
     },
     "output_type": "display_data"
    }
   ],
   "source": [
    "conditions[:10].plot(kind='bar', figsize = (10,6), fontsize = 10, color=\"red\")\n",
    "plt.title('Top 10 Most Common Conditions',fontsize = 20)\n",
    "plt.xlabel('Condition')\n",
    "plt.ylabel('Count');"
   ]
  },
  {
   "cell_type": "code",
   "execution_count": 19,
   "metadata": {},
   "outputs": [
    {
     "data": {
      "text/plain": [
       "Text(0.5, 1.0, 'Count of rating values')"
      ]
     },
     "execution_count": 19,
     "metadata": {},
     "output_type": "execute_result"
    },
    {
     "data": {
      "image/png": "[encoded data removed]",
      "text/plain": [
       "<Figure size 1008x432 with 1 Axes>"
      ]
     },
     "metadata": {
      "needs_background": "light"
     },
     "output_type": "display_data"
    }
   ],
   "source": [
    "rating = data['rating'].value_counts().sort_values(ascending=False)\n",
    "rating.plot(kind=\"bar\", figsize = (14,6), fontsize = 10,color=\"black\")\n",
    "plt.xlabel(\"\", fontsize = 20)\n",
    "plt.ylabel(\"\", fontsize = 20)\n",
    "plt.title(\"Count of rating values\", fontsize = 20)"
   ]
  },
  {
   "cell_type": "code",
   "execution_count": 20,
   "metadata": {},
   "outputs": [
    {
     "name": "stderr",
     "output_type": "stream",
     "text": [
      "C:\\Users\\DHYAN\\anaconda3\\lib\\site-packages\\seaborn\\distributions.py:2551: FutureWarning: `distplot` is a deprecated function and will be removed in a future version. Please adapt your code to use either `displot` (a figure-level function with similar flexibility) or `histplot` (an axes-level function for histograms).\n",
      "  warnings.warn(msg, FutureWarning)\n"
     ]
    },
    {
     "data": {
      "image/png": "[encoded data removed]",
      "text/plain": [
       "<Figure size 576x576 with 1 Axes>"
      ]
     },
     "metadata": {
      "needs_background": "light"
     },
     "output_type": "display_data"
    }
   ],
   "source": [
    "plt.figure(figsize=(8,8))\n",
    "sns.distplot(data['rating'], color='green', norm_hist=False, kde=False)\n",
    "\n",
    "plt.xlabel('Rating')\n",
    "plt.ylabel('Dist')\n",
    "plt.title(\"Distribution of rating\")\n",
    "plt.show()"
   ]
  },
  {
   "cell_type": "code",
   "execution_count": 21,
   "metadata": {},
   "outputs": [
    {
     "name": "stderr",
     "output_type": "stream",
     "text": [
      "C:\\Users\\DHYAN\\anaconda3\\lib\\site-packages\\seaborn\\_decorators.py:36: FutureWarning: Pass the following variable as a keyword arg: x. From version 0.12, the only valid positional argument will be `data`, and passing other arguments without an explicit keyword will result in an error or misinterpretation.\n",
      "  warnings.warn(\n"
     ]
    },
    {
     "data": {
      "image/png": "[encoded data removed]",
      "text/plain": [
       "<Figure size 720x360 with 1 Axes>"
      ]
     },
     "metadata": {
      "needs_background": "light"
     },
     "output_type": "display_data"
    }
   ],
   "source": [
    "plt.figure(figsize = (10,5))\n",
    "sns.countplot(data.effectiveness)\n",
    "plt.title('count plot of effectiveness',fontsize = 20)\n",
    "plt.show()\n",
    "\n"
   ]
  },
  {
   "cell_type": "code",
   "execution_count": 72,
   "metadata": {},
   "outputs": [
    {
     "data": {
      "image/png": "[encoded data removed]",
      "text/plain": [
       "<Figure size 432x432 with 1 Axes>"
      ]
     },
     "metadata": {},
     "output_type": "display_data"
    }
   ],
   "source": [
    "plt.figure(figsize = (6,6))\n",
    "plt.pie(data['sideEffects'].value_counts(), startangle = 90, autopct = '%.1f', labels = ['Mild Side Effects', 'No Side Effects ','Moderate Side Effects','Extremely Severe Side Effects','Severe Side Effects'], shadow = True)\n",
    "plt.title('% distribution  plot of side effect',fontsize = 20)\n",
    "plt.show()"
   ]
  },
  {
   "cell_type": "code",
   "execution_count": 71,
   "metadata": {},
   "outputs": [
    {
     "data": {
      "image/png": "[encoded data removed]",
      "text/plain": [
       "<Figure size 432x432 with 1 Axes>"
      ]
     },
     "metadata": {},
     "output_type": "display_data"
    }
   ],
   "source": [
    "plt.figure(figsize = (6,6))\n",
    "plt.pie(data['effectiveness'].value_counts(), startangle = 90, autopct = '%.1f', labels = ['Ineffective', 'Highly Effectives','Moderately Effective','Considerably Effective','Marginally Effective'], shadow = True)\n",
    "plt.title('% distribution  plot of effectiveness',fontsize = 20)\n",
    "plt.show()"
   ]
  },
  {
   "cell_type": "code",
   "execution_count": 24,
   "metadata": {},
   "outputs": [
    {
     "data": {
      "text/plain": [
       "Index(['urlDrugName', 'rating', 'effectiveness', 'condition', 'sideEffects'], dtype='object')"
      ]
     },
     "execution_count": 24,
     "metadata": {},
     "output_type": "execute_result"
    }
   ],
   "source": [
    "data.columns"
   ]
  },
  {
   "cell_type": "code",
   "execution_count": 25,
   "metadata": {},
   "outputs": [
    {
     "data": {
      "text/plain": [
       "lexapro        63\n",
       "prozac         46\n",
       "zoloft         45\n",
       "retin-a        45\n",
       "propecia       38\n",
       "paxil          38\n",
       "synthroid      38\n",
       "effexor        33\n",
       "doxycycline    33\n",
       "cymbalta       33\n",
       "Name: urlDrugName, dtype: int64"
      ]
     },
     "execution_count": 25,
     "metadata": {},
     "output_type": "execute_result"
    }
   ],
   "source": [
    "drug = data[\"urlDrugName\"].value_counts().sort_values(ascending=False)\n",
    "drug[:10]"
   ]
  },
  {
   "cell_type": "code",
   "execution_count": 26,
   "metadata": {},
   "outputs": [
    {
     "data": {
      "image/png": "[encoded data removed]",
      "text/plain": [
       "<Figure size 720x432 with 1 Axes>"
      ]
     },
     "metadata": {
      "needs_background": "light"
     },
     "output_type": "display_data"
    }
   ],
   "source": [
    "drug[:10].plot(kind='bar', figsize = (10,6), fontsize = 10, color=\"cyan\")\n",
    "plt.title('Top 10 Most Common drugs')\n",
    "plt.xlabel('drugname')\n",
    "plt.ylabel('Count');"
   ]
  },
  {
   "cell_type": "code",
   "execution_count": 27,
   "metadata": {},
   "outputs": [
    {
     "data": {
      "text/html": [
       "<div>\n",
       "<style scoped>\n",
       "    .dataframe tbody tr th:only-of-type {\n",
       "        vertical-align: middle;\n",
       "    }\n",
       "\n",
       "    .dataframe tbody tr th {\n",
       "        vertical-align: top;\n",
       "    }\n",
       "\n",
       "    .dataframe thead th {\n",
       "        text-align: right;\n",
       "    }\n",
       "</style>\n",
       "<table border=\"1\" class=\"dataframe\">\n",
       "  <thead>\n",
       "    <tr style=\"text-align: right;\">\n",
       "      <th></th>\n",
       "      <th>urlDrugName</th>\n",
       "      <th>rating</th>\n",
       "      <th>Count</th>\n",
       "    </tr>\n",
       "  </thead>\n",
       "  <tbody>\n",
       "    <tr>\n",
       "      <th>0</th>\n",
       "      <td>abilify</td>\n",
       "      <td>2</td>\n",
       "      <td>1</td>\n",
       "    </tr>\n",
       "    <tr>\n",
       "      <th>1</th>\n",
       "      <td>abilify</td>\n",
       "      <td>3</td>\n",
       "      <td>1</td>\n",
       "    </tr>\n",
       "    <tr>\n",
       "      <th>2</th>\n",
       "      <td>abilify</td>\n",
       "      <td>6</td>\n",
       "      <td>1</td>\n",
       "    </tr>\n",
       "    <tr>\n",
       "      <th>3</th>\n",
       "      <td>abilify</td>\n",
       "      <td>8</td>\n",
       "      <td>1</td>\n",
       "    </tr>\n",
       "    <tr>\n",
       "      <th>4</th>\n",
       "      <td>abilify</td>\n",
       "      <td>10</td>\n",
       "      <td>1</td>\n",
       "    </tr>\n",
       "    <tr>\n",
       "      <th>...</th>\n",
       "      <td>...</td>\n",
       "      <td>...</td>\n",
       "      <td>...</td>\n",
       "    </tr>\n",
       "    <tr>\n",
       "      <th>1537</th>\n",
       "      <td>zyrtec</td>\n",
       "      <td>10</td>\n",
       "      <td>7</td>\n",
       "    </tr>\n",
       "    <tr>\n",
       "      <th>1538</th>\n",
       "      <td>zyrtec-d</td>\n",
       "      <td>5</td>\n",
       "      <td>1</td>\n",
       "    </tr>\n",
       "    <tr>\n",
       "      <th>1539</th>\n",
       "      <td>zyrtec-d</td>\n",
       "      <td>7</td>\n",
       "      <td>1</td>\n",
       "    </tr>\n",
       "    <tr>\n",
       "      <th>1540</th>\n",
       "      <td>zyrtec-d</td>\n",
       "      <td>9</td>\n",
       "      <td>1</td>\n",
       "    </tr>\n",
       "    <tr>\n",
       "      <th>1541</th>\n",
       "      <td>zyvox</td>\n",
       "      <td>9</td>\n",
       "      <td>1</td>\n",
       "    </tr>\n",
       "  </tbody>\n",
       "</table>\n",
       "<p>1542 rows × 3 columns</p>\n",
       "</div>"
      ],
      "text/plain": [
       "     urlDrugName  rating  Count\n",
       "0        abilify       2      1\n",
       "1        abilify       3      1\n",
       "2        abilify       6      1\n",
       "3        abilify       8      1\n",
       "4        abilify      10      1\n",
       "...          ...     ...    ...\n",
       "1537      zyrtec      10      7\n",
       "1538    zyrtec-d       5      1\n",
       "1539    zyrtec-d       7      1\n",
       "1540    zyrtec-d       9      1\n",
       "1541       zyvox       9      1\n",
       "\n",
       "[1542 rows x 3 columns]"
      ]
     },
     "execution_count": 27,
     "metadata": {},
     "output_type": "execute_result"
    }
   ],
   "source": [
    "df_Drug = data.groupby([\"urlDrugName\", \"rating\"]).size().reset_index(name = \"Count\")\n",
    "df_Drug"
   ]
  },
  {
   "cell_type": "code",
   "execution_count": 28,
   "metadata": {},
   "outputs": [],
   "source": [
    "import seaborn as sns"
   ]
  },
  {
   "cell_type": "code",
   "execution_count": 29,
   "metadata": {},
   "outputs": [
    {
     "data": {
      "image/png": "[encoded data removed]",
      "text/plain": [
       "<Figure size 432x288 with 1 Axes>"
      ]
     },
     "metadata": {},
     "output_type": "display_data"
    }
   ],
   "source": [
    "sns.set(style=\"darkgrid\")\n",
    "ax = sns.countplot(x='rating',  data=df_Drug[:10])\n",
    "plt.title('count plot of rating')\n",
    "plt.show()"
   ]
  },
  {
   "cell_type": "code",
   "execution_count": 30,
   "metadata": {},
   "outputs": [
    {
     "data": {
      "text/plain": [
       "<AxesSubplot:xlabel='sideEffects', ylabel='count'>"
      ]
     },
     "execution_count": 30,
     "metadata": {},
     "output_type": "execute_result"
    },
    {
     "data": {
      "image/png": "[encoded data removed]",
      "text/plain": [
       "<Figure size 648x360 with 1 Axes>"
      ]
     },
     "metadata": {},
     "output_type": "display_data"
    }
   ],
   "source": [
    "plt.figure(figsize = (9,5))\n",
    "sns.countplot(x=\"sideEffects\", data=data)"
   ]
  },
  {
   "cell_type": "code",
   "execution_count": 31,
   "metadata": {},
   "outputs": [],
   "source": [
    "from sklearn.preprocessing import LabelEncoder\n",
    "le=LabelEncoder()"
   ]
  },
  {
   "cell_type": "code",
   "execution_count": 32,
   "metadata": {},
   "outputs": [
    {
     "data": {
      "text/plain": [
       "Index(['urlDrugName', 'rating', 'effectiveness', 'condition', 'sideEffects'], dtype='object')"
      ]
     },
     "execution_count": 32,
     "metadata": {},
     "output_type": "execute_result"
    }
   ],
   "source": [
    "data.columns"
   ]
  },
  {
   "cell_type": "code",
   "execution_count": 33,
   "metadata": {},
   "outputs": [],
   "source": [
    "x=data.drop(['sideEffects'],axis=1)"
   ]
  },
  {
   "cell_type": "code",
   "execution_count": 34,
   "metadata": {},
   "outputs": [],
   "source": [
    "y=data['sideEffects']"
   ]
  },
  {
   "cell_type": "code",
   "execution_count": 35,
   "metadata": {},
   "outputs": [],
   "source": [
    "x['urlDrugName'] = le.fit_transform(x['urlDrugName'])\n",
    "x['condition']=le.fit_transform(x['condition'])\n",
    "x['effectiveness'] = le.fit_transform(x['effectiveness'])\n"
   ]
  },
  {
   "cell_type": "code",
   "execution_count": 36,
   "metadata": {},
   "outputs": [
    {
     "data": {
      "text/html": [
       "<div>\n",
       "<style scoped>\n",
       "    .dataframe tbody tr th:only-of-type {\n",
       "        vertical-align: middle;\n",
       "    }\n",
       "\n",
       "    .dataframe tbody tr th {\n",
       "        vertical-align: top;\n",
       "    }\n",
       "\n",
       "    .dataframe thead th {\n",
       "        text-align: right;\n",
       "    }\n",
       "</style>\n",
       "<table border=\"1\" class=\"dataframe\">\n",
       "  <thead>\n",
       "    <tr style=\"text-align: right;\">\n",
       "      <th></th>\n",
       "      <th>urlDrugName</th>\n",
       "      <th>rating</th>\n",
       "      <th>effectiveness</th>\n",
       "      <th>condition</th>\n",
       "    </tr>\n",
       "  </thead>\n",
       "  <tbody>\n",
       "    <tr>\n",
       "      <th>0</th>\n",
       "      <td>166</td>\n",
       "      <td>4</td>\n",
       "      <td>1</td>\n",
       "      <td>797</td>\n",
       "    </tr>\n",
       "    <tr>\n",
       "      <th>1</th>\n",
       "      <td>319</td>\n",
       "      <td>1</td>\n",
       "      <td>1</td>\n",
       "      <td>224</td>\n",
       "    </tr>\n",
       "    <tr>\n",
       "      <th>2</th>\n",
       "      <td>345</td>\n",
       "      <td>10</td>\n",
       "      <td>1</td>\n",
       "      <td>819</td>\n",
       "    </tr>\n",
       "    <tr>\n",
       "      <th>3</th>\n",
       "      <td>353</td>\n",
       "      <td>3</td>\n",
       "      <td>3</td>\n",
       "      <td>11</td>\n",
       "    </tr>\n",
       "    <tr>\n",
       "      <th>4</th>\n",
       "      <td>259</td>\n",
       "      <td>2</td>\n",
       "      <td>3</td>\n",
       "      <td>492</td>\n",
       "    </tr>\n",
       "    <tr>\n",
       "      <th>...</th>\n",
       "      <td>...</td>\n",
       "      <td>...</td>\n",
       "      <td>...</td>\n",
       "      <td>...</td>\n",
       "    </tr>\n",
       "    <tr>\n",
       "      <th>3102</th>\n",
       "      <td>472</td>\n",
       "      <td>10</td>\n",
       "      <td>1</td>\n",
       "      <td>48</td>\n",
       "    </tr>\n",
       "    <tr>\n",
       "      <th>3103</th>\n",
       "      <td>493</td>\n",
       "      <td>1</td>\n",
       "      <td>2</td>\n",
       "      <td>369</td>\n",
       "    </tr>\n",
       "    <tr>\n",
       "      <th>3104</th>\n",
       "      <td>100</td>\n",
       "      <td>2</td>\n",
       "      <td>3</td>\n",
       "      <td>1365</td>\n",
       "    </tr>\n",
       "    <tr>\n",
       "      <th>3105</th>\n",
       "      <td>445</td>\n",
       "      <td>8</td>\n",
       "      <td>0</td>\n",
       "      <td>450</td>\n",
       "    </tr>\n",
       "    <tr>\n",
       "      <th>3106</th>\n",
       "      <td>278</td>\n",
       "      <td>4</td>\n",
       "      <td>4</td>\n",
       "      <td>603</td>\n",
       "    </tr>\n",
       "  </tbody>\n",
       "</table>\n",
       "<p>3106 rows × 4 columns</p>\n",
       "</div>"
      ],
      "text/plain": [
       "      urlDrugName  rating  effectiveness  condition\n",
       "0             166       4              1        797\n",
       "1             319       1              1        224\n",
       "2             345      10              1        819\n",
       "3             353       3              3         11\n",
       "4             259       2              3        492\n",
       "...           ...     ...            ...        ...\n",
       "3102          472      10              1         48\n",
       "3103          493       1              2        369\n",
       "3104          100       2              3       1365\n",
       "3105          445       8              0        450\n",
       "3106          278       4              4        603\n",
       "\n",
       "[3106 rows x 4 columns]"
      ]
     },
     "execution_count": 36,
     "metadata": {},
     "output_type": "execute_result"
    }
   ],
   "source": [
    "x"
   ]
  },
  {
   "cell_type": "code",
   "execution_count": 37,
   "metadata": {},
   "outputs": [
    {
     "data": {
      "text/plain": [
       "0                   Mild Side Effects\n",
       "1                 Severe Side Effects\n",
       "2                     No Side Effects\n",
       "3                   Mild Side Effects\n",
       "4                 Severe Side Effects\n",
       "                    ...              \n",
       "3102                Mild Side Effects\n",
       "3103    Extremely Severe Side Effects\n",
       "3104            Moderate Side Effects\n",
       "3105                Mild Side Effects\n",
       "3106            Moderate Side Effects\n",
       "Name: sideEffects, Length: 3106, dtype: object"
      ]
     },
     "execution_count": 37,
     "metadata": {},
     "output_type": "execute_result"
    }
   ],
   "source": [
    "y"
   ]
  },
  {
   "cell_type": "code",
   "execution_count": 38,
   "metadata": {},
   "outputs": [],
   "source": [
    "from sklearn.model_selection import train_test_split\n",
    "x_train,x_test,y_train,y_test=train_test_split(x,y,random_state=42,test_size=0.2)"
   ]
  },
  {
   "cell_type": "code",
   "execution_count": 39,
   "metadata": {
    "scrolled": true
   },
   "outputs": [
    {
     "name": "stderr",
     "output_type": "stream",
     "text": [
      "C:\\Users\\DHYAN\\anaconda3\\lib\\site-packages\\sklearn\\linear_model\\_logistic.py:762: ConvergenceWarning: lbfgs failed to converge (status=1):\n",
      "STOP: TOTAL NO. of ITERATIONS REACHED LIMIT.\n",
      "\n",
      "Increase the number of iterations (max_iter) or scale the data as shown in:\n",
      "    https://scikit-learn.org/stable/modules/preprocessing.html\n",
      "Please also refer to the documentation for alternative solver options:\n",
      "    https://scikit-learn.org/stable/modules/linear_model.html#logistic-regression\n",
      "  n_iter_i = _check_optimize_result(\n"
     ]
    }
   ],
   "source": [
    "from sklearn.linear_model import LogisticRegression\n",
    "logit_model=LogisticRegression()\n",
    "logit_model.fit(x_train,y_train)\n",
    "y_prediction=logit_model.predict(x_test)"
   ]
  },
  {
   "cell_type": "code",
   "execution_count": 40,
   "metadata": {},
   "outputs": [
    {
     "name": "stdout",
     "output_type": "stream",
     "text": [
      "Classification report :\n",
      "                                precision    recall  f1-score   support\n",
      "\n",
      "Extremely Severe Side Effects       0.00      0.00      0.00        34\n",
      "            Mild Side Effects       0.34      0.47      0.40       194\n",
      "        Moderate Side Effects       0.38      0.14      0.20       117\n",
      "              No Side Effects       0.38      0.41      0.40       201\n",
      "          Severe Side Effects       0.38      0.45      0.41        76\n",
      "\n",
      "                     accuracy                           0.36       622\n",
      "                    macro avg       0.30      0.29      0.28       622\n",
      "                 weighted avg       0.35      0.36      0.34       622\n",
      "\n"
     ]
    },
    {
     "name": "stderr",
     "output_type": "stream",
     "text": [
      "C:\\Users\\DHYAN\\anaconda3\\lib\\site-packages\\sklearn\\metrics\\_classification.py:1221: UndefinedMetricWarning: Precision and F-score are ill-defined and being set to 0.0 in labels with no predicted samples. Use `zero_division` parameter to control this behavior.\n",
      "  _warn_prf(average, modifier, msg_start, len(result))\n"
     ]
    }
   ],
   "source": [
    "from sklearn.metrics import confusion_matrix,accuracy_score,classification_report\n",
    "# print('Confusion_matrix is :\\n',confusion_matrix(y_test,y_pred))\n",
    "print('Classification report :\\n' ,classification_report(y_test,y_prediction))"
   ]
  },
  {
   "cell_type": "code",
   "execution_count": 41,
   "metadata": {},
   "outputs": [
    {
     "data": {
      "text/plain": [
       "array([[  0,   2,   1,   1,  30],\n",
       "       [  0,  92,   6,  90,   6],\n",
       "       [  0,  55,  16,  35,  11],\n",
       "       [  0, 104,   5,  83,   9],\n",
       "       [  0,  18,  14,  10,  34]], dtype=int64)"
      ]
     },
     "execution_count": 41,
     "metadata": {},
     "output_type": "execute_result"
    }
   ],
   "source": [
    "from sklearn.metrics import confusion_matrix,accuracy_score\n",
    "confusion_matrix(y_test,y_prediction)"
   ]
  },
  {
   "cell_type": "code",
   "execution_count": 42,
   "metadata": {},
   "outputs": [],
   "source": [
    "from sklearn.neighbors import KNeighborsClassifier\n",
    "acc_values=[]\n",
    "neighbours=np.arange(3,15)\n",
    "for k in neighbours:\n",
    "  classifier=KNeighborsClassifier(n_neighbors=k,metric='minkowski')\n",
    "  classifier.fit(x_train,y_train)\n",
    "  y_prediction=classifier.predict(x_test)\n",
    "  acc=accuracy_score(y_test,y_prediction)\n",
    "  acc_values.append(acc)"
   ]
  },
  {
   "cell_type": "code",
   "execution_count": 43,
   "metadata": {},
   "outputs": [
    {
     "data": {
      "text/plain": [
       "[0.36977491961414793,\n",
       " 0.3392282958199357,\n",
       " 0.3408360128617363,\n",
       " 0.3408360128617363,\n",
       " 0.33440514469453375,\n",
       " 0.3279742765273312,\n",
       " 0.34565916398713825,\n",
       " 0.34565916398713825,\n",
       " 0.33762057877813506,\n",
       " 0.342443729903537,\n",
       " 0.3520900321543408,\n",
       " 0.3360128617363344]"
      ]
     },
     "execution_count": 43,
     "metadata": {},
     "output_type": "execute_result"
    }
   ],
   "source": [
    "acc_values"
   ]
  },
  {
   "cell_type": "code",
   "execution_count": 44,
   "metadata": {},
   "outputs": [
    {
     "data": {
      "text/plain": [
       "Text(0, 0.5, 'accuracy')"
      ]
     },
     "execution_count": 44,
     "metadata": {},
     "output_type": "execute_result"
    },
    {
     "data": {
      "image/png": "[encoded data removed]",
      "text/plain": [
       "<Figure size 432x288 with 1 Axes>"
      ]
     },
     "metadata": {},
     "output_type": "display_data"
    }
   ],
   "source": [
    "plt.plot(neighbours,acc_values,'o-')\n",
    "plt.xlabel('k value')\n",
    "plt.ylabel('accuracy')"
   ]
  },
  {
   "cell_type": "code",
   "execution_count": 45,
   "metadata": {},
   "outputs": [],
   "source": [
    "classifier=KNeighborsClassifier(n_neighbors=3,metric='minkowski')\n",
    "classifier.fit(x_train,y_train)\n",
    "y_prediction=classifier.predict(x_test)"
   ]
  },
  {
   "cell_type": "code",
   "execution_count": 46,
   "metadata": {},
   "outputs": [
    {
     "name": "stdout",
     "output_type": "stream",
     "text": [
      "                               precision    recall  f1-score   support\n",
      "\n",
      "Extremely Severe Side Effects       0.11      0.21      0.15        34\n",
      "            Mild Side Effects       0.39      0.58      0.47       194\n",
      "        Moderate Side Effects       0.28      0.20      0.23       117\n",
      "              No Side Effects       0.49      0.40      0.44       201\n",
      "          Severe Side Effects       0.23      0.08      0.12        76\n",
      "\n",
      "                     accuracy                           0.37       622\n",
      "                    macro avg       0.30      0.29      0.28       622\n",
      "                 weighted avg       0.37      0.37      0.36       622\n",
      "\n"
     ]
    }
   ],
   "source": [
    "print(classification_report(y_test,y_prediction))"
   ]
  },
  {
   "cell_type": "code",
   "execution_count": 47,
   "metadata": {},
   "outputs": [
    {
     "data": {
      "text/plain": [
       "array([[  7,   5,   9,   7,   6],\n",
       "       [ 12, 113,  21,  45,   3],\n",
       "       [ 11,  56,  23,  22,   5],\n",
       "       [ 10,  85,  19,  81,   6],\n",
       "       [ 21,  28,  11,  10,   6]], dtype=int64)"
      ]
     },
     "execution_count": 47,
     "metadata": {},
     "output_type": "execute_result"
    }
   ],
   "source": [
    "confusion_matrix(y_test,y_prediction)"
   ]
  },
  {
   "cell_type": "code",
   "execution_count": 48,
   "metadata": {},
   "outputs": [],
   "source": [
    "from sklearn.tree import DecisionTreeClassifier\n",
    "dt_model=DecisionTreeClassifier(criterion='entropy')\n",
    "dt_model.fit(x_train,y_train)\n",
    "y_prediction=dt_model.predict(x_test)"
   ]
  },
  {
   "cell_type": "code",
   "execution_count": 49,
   "metadata": {},
   "outputs": [
    {
     "name": "stdout",
     "output_type": "stream",
     "text": [
      "                               precision    recall  f1-score   support\n",
      "\n",
      "Extremely Severe Side Effects       0.43      0.59      0.50        34\n",
      "            Mild Side Effects       0.43      0.52      0.47       194\n",
      "        Moderate Side Effects       0.41      0.34      0.37       117\n",
      "              No Side Effects       0.55      0.49      0.52       201\n",
      "          Severe Side Effects       0.32      0.29      0.31        76\n",
      "\n",
      "                     accuracy                           0.45       622\n",
      "                    macro avg       0.43      0.45      0.43       622\n",
      "                 weighted avg       0.45      0.45      0.45       622\n",
      "\n"
     ]
    }
   ],
   "source": [
    "print(classification_report(y_test,y_prediction))"
   ]
  },
  {
   "cell_type": "code",
   "execution_count": 50,
   "metadata": {},
   "outputs": [
    {
     "data": {
      "text/plain": [
       "array([[ 20,   1,   1,   3,   9],\n",
       "       [  1, 101,  30,  52,  10],\n",
       "       [  5,  33,  40,  20,  19],\n",
       "       [  4,  81,  10,  98,   8],\n",
       "       [ 16,  17,  16,   5,  22]], dtype=int64)"
      ]
     },
     "execution_count": 50,
     "metadata": {},
     "output_type": "execute_result"
    }
   ],
   "source": [
    "confusion_matrix(y_test,y_prediction)"
   ]
  },
  {
   "cell_type": "code",
   "execution_count": 51,
   "metadata": {},
   "outputs": [],
   "source": [
    "from sklearn.svm import SVC\n",
    "svm_linear=SVC(kernel='linear')\n",
    "svm_linear.fit(x_train,y_train)\n",
    "y_prediction=svm_linear.predict(x_test)"
   ]
  },
  {
   "cell_type": "code",
   "execution_count": 52,
   "metadata": {},
   "outputs": [
    {
     "data": {
      "text/plain": [
       "array([[  0,   1,   1,   0,  32],\n",
       "       [  0, 117,  20,  50,   7],\n",
       "       [  0,  58,  26,  12,  21],\n",
       "       [  0,  82,  15,  95,   9],\n",
       "       [  0,  13,  15,   5,  43]], dtype=int64)"
      ]
     },
     "execution_count": 52,
     "metadata": {},
     "output_type": "execute_result"
    }
   ],
   "source": [
    "confusion_matrix(y_test,y_prediction)"
   ]
  },
  {
   "cell_type": "code",
   "execution_count": 53,
   "metadata": {},
   "outputs": [
    {
     "name": "stdout",
     "output_type": "stream",
     "text": [
      "                               precision    recall  f1-score   support\n",
      "\n",
      "Extremely Severe Side Effects       0.00      0.00      0.00        34\n",
      "            Mild Side Effects       0.43      0.60      0.50       194\n",
      "        Moderate Side Effects       0.34      0.22      0.27       117\n",
      "              No Side Effects       0.59      0.47      0.52       201\n",
      "          Severe Side Effects       0.38      0.57      0.46        76\n",
      "\n",
      "                     accuracy                           0.45       622\n",
      "                    macro avg       0.35      0.37      0.35       622\n",
      "                 weighted avg       0.43      0.45      0.43       622\n",
      "\n"
     ]
    },
    {
     "name": "stderr",
     "output_type": "stream",
     "text": [
      "C:\\Users\\DHYAN\\anaconda3\\lib\\site-packages\\sklearn\\metrics\\_classification.py:1221: UndefinedMetricWarning: Precision and F-score are ill-defined and being set to 0.0 in labels with no predicted samples. Use `zero_division` parameter to control this behavior.\n",
      "  _warn_prf(average, modifier, msg_start, len(result))\n"
     ]
    }
   ],
   "source": [
    "print(classification_report(y_test,y_prediction))"
   ]
  },
  {
   "cell_type": "code",
   "execution_count": 54,
   "metadata": {},
   "outputs": [],
   "source": [
    "svm_poly=SVC(kernel='poly',degree=3)\n",
    "svm_poly.fit(x_train,y_train)\n",
    "y_prediction=svm_poly.predict(x_test)"
   ]
  },
  {
   "cell_type": "code",
   "execution_count": 55,
   "metadata": {},
   "outputs": [
    {
     "data": {
      "text/plain": [
       "array([[  0,  28,   0,   6,   0],\n",
       "       [  0, 185,   0,   9,   0],\n",
       "       [  0, 104,   0,  13,   0],\n",
       "       [  0, 181,   0,  20,   0],\n",
       "       [  0,  61,   0,  15,   0]], dtype=int64)"
      ]
     },
     "execution_count": 55,
     "metadata": {},
     "output_type": "execute_result"
    }
   ],
   "source": [
    "confusion_matrix(y_test,y_prediction)"
   ]
  },
  {
   "cell_type": "code",
   "execution_count": 56,
   "metadata": {},
   "outputs": [
    {
     "name": "stdout",
     "output_type": "stream",
     "text": [
      "                               precision    recall  f1-score   support\n",
      "\n",
      "Extremely Severe Side Effects       0.00      0.00      0.00        34\n",
      "            Mild Side Effects       0.33      0.95      0.49       194\n",
      "        Moderate Side Effects       0.00      0.00      0.00       117\n",
      "              No Side Effects       0.32      0.10      0.15       201\n",
      "          Severe Side Effects       0.00      0.00      0.00        76\n",
      "\n",
      "                     accuracy                           0.33       622\n",
      "                    macro avg       0.13      0.21      0.13       622\n",
      "                 weighted avg       0.21      0.33      0.20       622\n",
      "\n"
     ]
    },
    {
     "name": "stderr",
     "output_type": "stream",
     "text": [
      "C:\\Users\\DHYAN\\anaconda3\\lib\\site-packages\\sklearn\\metrics\\_classification.py:1221: UndefinedMetricWarning: Precision and F-score are ill-defined and being set to 0.0 in labels with no predicted samples. Use `zero_division` parameter to control this behavior.\n",
      "  _warn_prf(average, modifier, msg_start, len(result))\n"
     ]
    }
   ],
   "source": [
    "print(classification_report(y_test,y_prediction))"
   ]
  },
  {
   "cell_type": "code",
   "execution_count": 57,
   "metadata": {},
   "outputs": [],
   "source": [
    "svm_radial=SVC(kernel='rbf')\n",
    "svm_radial.fit(x_train,y_train)\n",
    "y_prediction=svm_radial.predict(x_test)"
   ]
  },
  {
   "cell_type": "code",
   "execution_count": 58,
   "metadata": {},
   "outputs": [
    {
     "name": "stdout",
     "output_type": "stream",
     "text": [
      "                               precision    recall  f1-score   support\n",
      "\n",
      "Extremely Severe Side Effects       0.00      0.00      0.00        34\n",
      "            Mild Side Effects       0.33      0.70      0.45       194\n",
      "        Moderate Side Effects       0.00      0.00      0.00       117\n",
      "              No Side Effects       0.34      0.35      0.35       201\n",
      "          Severe Side Effects       0.00      0.00      0.00        76\n",
      "\n",
      "                     accuracy                           0.33       622\n",
      "                    macro avg       0.13      0.21      0.16       622\n",
      "                 weighted avg       0.21      0.33      0.25       622\n",
      "\n"
     ]
    },
    {
     "name": "stderr",
     "output_type": "stream",
     "text": [
      "C:\\Users\\DHYAN\\anaconda3\\lib\\site-packages\\sklearn\\metrics\\_classification.py:1221: UndefinedMetricWarning: Precision and F-score are ill-defined and being set to 0.0 in labels with no predicted samples. Use `zero_division` parameter to control this behavior.\n",
      "  _warn_prf(average, modifier, msg_start, len(result))\n"
     ]
    }
   ],
   "source": [
    "print(classification_report(y_test,y_prediction))"
   ]
  },
  {
   "cell_type": "code",
   "execution_count": 59,
   "metadata": {},
   "outputs": [
    {
     "data": {
      "text/plain": [
       "array([[  0,  17,   0,  17,   0],\n",
       "       [  0, 136,   0,  58,   0],\n",
       "       [  0,  83,   0,  34,   0],\n",
       "       [  0, 130,   0,  71,   0],\n",
       "       [  0,  46,   0,  30,   0]], dtype=int64)"
      ]
     },
     "execution_count": 59,
     "metadata": {},
     "output_type": "execute_result"
    }
   ],
   "source": [
    "confusion_matrix(y_test,y_prediction)"
   ]
  },
  {
   "cell_type": "code",
   "execution_count": 60,
   "metadata": {},
   "outputs": [],
   "source": [
    "from sklearn.ensemble import RandomForestClassifier\n",
    "rf = RandomForestClassifier()\n",
    "rf.fit(x_train, y_train)\n",
    "y_prediction=rf.predict(x_test)"
   ]
  },
  {
   "cell_type": "code",
   "execution_count": 61,
   "metadata": {},
   "outputs": [
    {
     "name": "stdout",
     "output_type": "stream",
     "text": [
      "                               precision    recall  f1-score   support\n",
      "\n",
      "Extremely Severe Side Effects       0.47      0.53      0.50        34\n",
      "            Mild Side Effects       0.47      0.53      0.50       194\n",
      "        Moderate Side Effects       0.35      0.34      0.35       117\n",
      "              No Side Effects       0.59      0.55      0.57       201\n",
      "          Severe Side Effects       0.41      0.34      0.37        76\n",
      "\n",
      "                     accuracy                           0.48       622\n",
      "                    macro avg       0.46      0.46      0.46       622\n",
      "                 weighted avg       0.48      0.48      0.48       622\n",
      "\n"
     ]
    }
   ],
   "source": [
    "print(classification_report(y_test,y_prediction))"
   ]
  },
  {
   "cell_type": "code",
   "execution_count": 62,
   "metadata": {},
   "outputs": [
    {
     "data": {
      "text/plain": [
       "array([[ 18,   1,   3,   3,   9],\n",
       "       [  1, 102,  34,  48,   9],\n",
       "       [  3,  32,  40,  25,  17],\n",
       "       [  3,  68,  16, 111,   3],\n",
       "       [ 13,  14,  21,   2,  26]], dtype=int64)"
      ]
     },
     "execution_count": 62,
     "metadata": {},
     "output_type": "execute_result"
    }
   ],
   "source": [
    "confusion_matrix(y_test,y_prediction)"
   ]
  },
  {
   "cell_type": "code",
   "execution_count": 63,
   "metadata": {},
   "outputs": [],
   "source": [
    "from sklearn.ensemble import GradientBoostingClassifier\n",
    "gb=GradientBoostingClassifier()\n",
    "gb.fit(x_train,y_train)\n",
    "y_prediction=gb.predict(x_test)"
   ]
  },
  {
   "cell_type": "code",
   "execution_count": 64,
   "metadata": {},
   "outputs": [
    {
     "name": "stdout",
     "output_type": "stream",
     "text": [
      "                               precision    recall  f1-score   support\n",
      "\n",
      "Extremely Severe Side Effects       0.44      0.56      0.49        34\n",
      "            Mild Side Effects       0.49      0.60      0.54       194\n",
      "        Moderate Side Effects       0.37      0.38      0.37       117\n",
      "              No Side Effects       0.68      0.54      0.60       201\n",
      "          Severe Side Effects       0.42      0.36      0.39        76\n",
      "\n",
      "                     accuracy                           0.50       622\n",
      "                    macro avg       0.48      0.49      0.48       622\n",
      "                 weighted avg       0.52      0.50      0.51       622\n",
      "\n"
     ]
    }
   ],
   "source": [
    "print(classification_report(y_test,y_prediction))"
   ]
  },
  {
   "cell_type": "code",
   "execution_count": 65,
   "metadata": {},
   "outputs": [
    {
     "data": {
      "text/plain": [
       "array([[ 19,   1,   2,   1,  11],\n",
       "       [  3, 116,  33,  39,   3],\n",
       "       [  5,  43,  44,   8,  17],\n",
       "       [  3,  70,  14, 108,   6],\n",
       "       [ 13,   9,  25,   2,  27]], dtype=int64)"
      ]
     },
     "execution_count": 65,
     "metadata": {},
     "output_type": "execute_result"
    }
   ],
   "source": [
    "confusion_matrix(y_test,y_prediction)"
   ]
  },
  {
   "cell_type": "code",
   "execution_count": 66,
   "metadata": {},
   "outputs": [],
   "source": [
    "# from sklearn import preprocessing\n",
    "# min_max=preprocessing.MinMaxScaler(feature_range=(0,1))\n",
    "# x_trainmin=min_max.fit_transform(x_train)\n",
    "# x_testmin=min_max.fit_transform(x_test)"
   ]
  },
  {
   "cell_type": "code",
   "execution_count": 67,
   "metadata": {},
   "outputs": [],
   "source": [
    "from sklearn import preprocessing\n",
    "standardisation=preprocessing.StandardScaler()\n",
    "x_train=standardisation.fit_transform(x_train)\n",
    "x_test=standardisation.fit_transform(x_test)\n",
    "\n"
   ]
  },
  {
   "cell_type": "code",
   "execution_count": 68,
   "metadata": {},
   "outputs": [],
   "source": [
    "from sklearn.tree import DecisionTreeClassifier\n",
    "dt_model=DecisionTreeClassifier(criterion='entropy')\n",
    "dt_model.fit(x_train,y_train)\n",
    "y_prediction=dt_model.predict(x_test)"
   ]
  },
  {
   "cell_type": "code",
   "execution_count": 69,
   "metadata": {},
   "outputs": [
    {
     "name": "stdout",
     "output_type": "stream",
     "text": [
      "Classification report :\n",
      "                                precision    recall  f1-score   support\n",
      "\n",
      "Extremely Severe Side Effects       0.39      0.53      0.45        34\n",
      "            Mild Side Effects       0.43      0.52      0.47       194\n",
      "        Moderate Side Effects       0.40      0.35      0.37       117\n",
      "              No Side Effects       0.51      0.43      0.47       201\n",
      "          Severe Side Effects       0.36      0.34      0.35        76\n",
      "\n",
      "                     accuracy                           0.44       622\n",
      "                    macro avg       0.42      0.43      0.42       622\n",
      "                 weighted avg       0.44      0.44      0.44       622\n",
      "\n"
     ]
    }
   ],
   "source": [
    "from sklearn.metrics import confusion_matrix,accuracy_score,classification_report\n",
    "print('Classification report :\\n' ,classification_report(y_test,y_prediction))"
   ]
  },
  {
   "cell_type": "code",
   "execution_count": 73,
   "metadata": {},
   "outputs": [
    {
     "name": "stdout",
     "output_type": "stream",
     "text": [
      "Confusion_matrix is :\n",
      " [[ 18   1   2   4   9]\n",
      " [  2 101  29  54   8]\n",
      " [  5  33  41  19  19]\n",
      " [  5  87  12  86  11]\n",
      " [ 16  11  18   5  26]]\n"
     ]
    }
   ],
   "source": [
    "print('Confusion_matrix is :\\n',confusion_matrix(y_test,y_prediction))"
   ]
  },
  {
   "cell_type": "code",
   "execution_count": 74,
   "metadata": {},
   "outputs": [],
   "source": [
    "from sklearn.svm import SVC\n",
    "svm_linear=SVC(kernel='linear')\n",
    "svm_linear.fit(x_train,y_train)\n",
    "y_prediction=svm_linear.predict(x_test)"
   ]
  },
  {
   "cell_type": "code",
   "execution_count": 75,
   "metadata": {},
   "outputs": [
    {
     "name": "stdout",
     "output_type": "stream",
     "text": [
      "Classification report :\n",
      "                                precision    recall  f1-score   support\n",
      "\n",
      "Extremely Severe Side Effects       0.00      0.00      0.00        34\n",
      "            Mild Side Effects       0.43      0.60      0.50       194\n",
      "        Moderate Side Effects       0.35      0.22      0.27       117\n",
      "              No Side Effects       0.59      0.49      0.54       201\n",
      "          Severe Side Effects       0.38      0.57      0.46        76\n",
      "\n",
      "                     accuracy                           0.46       622\n",
      "                    macro avg       0.35      0.38      0.35       622\n",
      "                 weighted avg       0.44      0.46      0.44       622\n",
      "\n"
     ]
    },
    {
     "name": "stderr",
     "output_type": "stream",
     "text": [
      "C:\\Users\\DHYAN\\anaconda3\\lib\\site-packages\\sklearn\\metrics\\_classification.py:1221: UndefinedMetricWarning: Precision and F-score are ill-defined and being set to 0.0 in labels with no predicted samples. Use `zero_division` parameter to control this behavior.\n",
      "  _warn_prf(average, modifier, msg_start, len(result))\n"
     ]
    }
   ],
   "source": [
    "print('Classification report :\\n' ,classification_report(y_test,y_prediction))"
   ]
  },
  {
   "cell_type": "code",
   "execution_count": 76,
   "metadata": {},
   "outputs": [
    {
     "name": "stdout",
     "output_type": "stream",
     "text": [
      "Confusion_matrix is :\n",
      " [[  0   1   1   0  32]\n",
      " [  0 116  18  53   7]\n",
      " [  0  58  26  12  21]\n",
      " [  0  78  15  99   9]\n",
      " [  0  14  14   5  43]]\n"
     ]
    }
   ],
   "source": [
    "print('Confusion_matrix is :\\n',confusion_matrix(y_test,y_prediction))"
   ]
  },
  {
   "cell_type": "code",
   "execution_count": 77,
   "metadata": {},
   "outputs": [],
   "source": [
    "svm_poly=SVC(kernel='poly',degree=3)\n",
    "svm_poly.fit(x_train,y_train)\n",
    "y_prediction=svm_poly.predict(x_test)"
   ]
  },
  {
   "cell_type": "code",
   "execution_count": 78,
   "metadata": {},
   "outputs": [
    {
     "name": "stdout",
     "output_type": "stream",
     "text": [
      "Classification report :\n",
      "                                precision    recall  f1-score   support\n",
      "\n",
      "Extremely Severe Side Effects       0.48      0.71      0.57        34\n",
      "            Mild Side Effects       0.38      0.81      0.52       194\n",
      "        Moderate Side Effects       0.38      0.22      0.28       117\n",
      "              No Side Effects       0.63      0.19      0.30       201\n",
      "          Severe Side Effects       0.39      0.16      0.22        76\n",
      "\n",
      "                     accuracy                           0.41       622\n",
      "                    macro avg       0.45      0.42      0.38       622\n",
      "                 weighted avg       0.47      0.41      0.37       622\n",
      "\n"
     ]
    }
   ],
   "source": [
    "print('Classification report :\\n' ,classification_report(y_test,y_prediction))"
   ]
  },
  {
   "cell_type": "code",
   "execution_count": 79,
   "metadata": {},
   "outputs": [
    {
     "name": "stdout",
     "output_type": "stream",
     "text": [
      "Confusion_matrix is :\n",
      " [[ 24   2   2   0   6]\n",
      " [  2 157  14  19   2]\n",
      " [  3  78  26   3   7]\n",
      " [  4 147   7  39   4]\n",
      " [ 17  27  19   1  12]]\n"
     ]
    }
   ],
   "source": [
    "print('Confusion_matrix is :\\n',confusion_matrix(y_test,y_prediction))"
   ]
  },
  {
   "cell_type": "code",
   "execution_count": 80,
   "metadata": {},
   "outputs": [],
   "source": [
    "svm_radial=SVC(kernel='rbf')\n",
    "svm_radial.fit(x_train,y_train)\n",
    "y_prediction=svm_radial.predict(x_test)"
   ]
  },
  {
   "cell_type": "code",
   "execution_count": 81,
   "metadata": {},
   "outputs": [
    {
     "name": "stdout",
     "output_type": "stream",
     "text": [
      "Classification report :\n",
      "                                precision    recall  f1-score   support\n",
      "\n",
      "Extremely Severe Side Effects       0.52      0.41      0.46        34\n",
      "            Mild Side Effects       0.46      0.60      0.52       194\n",
      "        Moderate Side Effects       0.38      0.31      0.34       117\n",
      "              No Side Effects       0.64      0.54      0.58       201\n",
      "          Severe Side Effects       0.39      0.38      0.39        76\n",
      "\n",
      "                     accuracy                           0.49       622\n",
      "                    macro avg       0.48      0.45      0.46       622\n",
      "                 weighted avg       0.50      0.49      0.49       622\n",
      "\n"
     ]
    }
   ],
   "source": [
    "print('Classification report :\\n' ,classification_report(y_test,y_prediction))"
   ]
  },
  {
   "cell_type": "code",
   "execution_count": 82,
   "metadata": {},
   "outputs": [
    {
     "name": "stdout",
     "output_type": "stream",
     "text": [
      "Confusion_matrix is :\n",
      " [[ 14   0   3   0  17]\n",
      " [  1 117  19  52   5]\n",
      " [  2  55  36   8  16]\n",
      " [  2  72  12 108   7]\n",
      " [  8  13  25   1  29]]\n"
     ]
    }
   ],
   "source": [
    "print('Confusion_matrix is :\\n',confusion_matrix(y_test,y_prediction))"
   ]
  },
  {
   "cell_type": "code",
   "execution_count": 84,
   "metadata": {},
   "outputs": [],
   "source": [
    "from sklearn.ensemble import RandomForestClassifier\n",
    "rf = RandomForestClassifier()\n",
    "rf.fit(x_train, y_train)\n",
    "y_prediction=rf.predict(x_test)\n"
   ]
  },
  {
   "cell_type": "code",
   "execution_count": 85,
   "metadata": {},
   "outputs": [
    {
     "name": "stdout",
     "output_type": "stream",
     "text": [
      "Classification report :\n",
      "                                precision    recall  f1-score   support\n",
      "\n",
      "Extremely Severe Side Effects       0.41      0.50      0.45        34\n",
      "            Mild Side Effects       0.49      0.52      0.50       194\n",
      "        Moderate Side Effects       0.37      0.38      0.38       117\n",
      "              No Side Effects       0.58      0.55      0.56       201\n",
      "          Severe Side Effects       0.34      0.29      0.31        76\n",
      "\n",
      "                     accuracy                           0.47       622\n",
      "                    macro avg       0.44      0.45      0.44       622\n",
      "                 weighted avg       0.47      0.47      0.47       622\n",
      "\n"
     ]
    }
   ],
   "source": [
    "print('Classification report :\\n' ,classification_report(y_test,y_prediction))"
   ]
  },
  {
   "cell_type": "code",
   "execution_count": 86,
   "metadata": {},
   "outputs": [
    {
     "name": "stdout",
     "output_type": "stream",
     "text": [
      "Confusion_matrix is :\n",
      " [[ 17   0   3   3  11]\n",
      " [  2 100  33  52   7]\n",
      " [  2  28  45  22  20]\n",
      " [  4  64  19 110   4]\n",
      " [ 16  14  21   3  22]]\n"
     ]
    }
   ],
   "source": [
    "print('Confusion_matrix is :\\n',confusion_matrix(y_test,y_prediction))"
   ]
  },
  {
   "cell_type": "code",
   "execution_count": 87,
   "metadata": {},
   "outputs": [],
   "source": [
    "from sklearn.ensemble import GradientBoostingClassifier\n",
    "gb=GradientBoostingClassifier()\n",
    "gb.fit(x_train,y_train)\n",
    "y_prediction=gb.predict(x_test)"
   ]
  },
  {
   "cell_type": "code",
   "execution_count": 88,
   "metadata": {},
   "outputs": [
    {
     "name": "stdout",
     "output_type": "stream",
     "text": [
      "Classification report :\n",
      "                                precision    recall  f1-score   support\n",
      "\n",
      "Extremely Severe Side Effects       0.42      0.56      0.48        34\n",
      "            Mild Side Effects       0.47      0.50      0.48       194\n",
      "        Moderate Side Effects       0.32      0.41      0.36       117\n",
      "              No Side Effects       0.65      0.52      0.58       201\n",
      "          Severe Side Effects       0.38      0.30      0.34        76\n",
      "\n",
      "                     accuracy                           0.47       622\n",
      "                    macro avg       0.45      0.46      0.45       622\n",
      "                 weighted avg       0.49      0.47      0.47       622\n",
      "\n"
     ]
    }
   ],
   "source": [
    "print('Classification report :\\n' ,classification_report(y_test,y_prediction))"
   ]
  },
  {
   "cell_type": "code",
   "execution_count": 89,
   "metadata": {},
   "outputs": [
    {
     "name": "stdout",
     "output_type": "stream",
     "text": [
      "Confusion_matrix is :\n",
      " [[ 19   1   3   0  11]\n",
      " [  2  97  45  46   4]\n",
      " [  4  37  48  10  18]\n",
      " [  3  65  23 105   5]\n",
      " [ 17   7  29   0  23]]\n"
     ]
    }
   ],
   "source": [
    "print('Confusion_matrix is :\\n',confusion_matrix(y_test,y_prediction))"
   ]
  },
  {
   "cell_type": "code",
   "execution_count": null,
   "metadata": {},
   "outputs": [],
   "source": []
  }
 ],
 "metadata": {
  "kernelspec": {
   "display_name": "Python 3",
   "language": "python",
   "name": "python3"
  },
  "language_info": {
   "codemirror_mode": {
    "name": "ipython",
    "version": 3
   },
   "file_extension": ".py",
   "mimetype": "text/x-python",
   "name": "python",
   "nbconvert_exporter": "python",
   "pygments_lexer": "ipython3",
   "version": "3.8.5"
  }
 },
 "nbformat": 4,
 "nbformat_minor": 4
}
